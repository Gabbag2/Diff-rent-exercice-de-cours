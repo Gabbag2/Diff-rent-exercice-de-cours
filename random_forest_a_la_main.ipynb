{
 "cells": [
  {
   "cell_type": "markdown",
   "metadata": {},
   "source": [
    "Gabriel ROCHON\n",
    "Le notebook suivant se déroule en 6 parties\n",
    "\n",
    "0) Organisation des données avec un one hot encoding\n",
    "\n",
    "1) 1er algo de random forest à la main.\n",
    "    Puis optimisation et test sur Kaggle\n",
    "\n",
    "2) 2eme algo de random forest à la main.\n",
    "    Puis optimisation et test sur Kaggle\n",
    "\n",
    "3) Algo de random forest de sklearn.\n",
    "    Puis optimisation et test sur Kaggle\n",
    "\n",
    "4) Algo des k plus proches voisins.\n",
    "    Puis optimisation et test sur Kaggle\n",
    "\n",
    "5) Algo de la regression logistique.\n",
    "    Puis optimisation et test sur Kaggle\n",
    "    \n",
    "6) Comparatif des algos et conclusion.\n",
    "\n",
    "le temps d'execution totale est de 7 minutes\n",
    "    \n"
   ]
  },
  {
   "cell_type": "markdown",
   "metadata": {},
   "source": [
    "0)"
   ]
  },
  {
   "cell_type": "code",
   "execution_count": 305,
   "metadata": {},
   "outputs": [],
   "source": [
    "import numpy as np\n",
    "import pandas as pd\n",
    "import os\n",
    "import matplotlib.pyplot as plt\n",
    "import time\n",
    "%matplotlib inline"
   ]
  },
  {
   "cell_type": "code",
   "execution_count": 306,
   "metadata": {},
   "outputs": [
    {
     "name": "stdout",
     "output_type": "stream",
     "text": [
      "   PassengerId  Survived  Pclass  \\\n",
      "0            1         0       3   \n",
      "1            2         1       1   \n",
      "2            3         1       3   \n",
      "3            4         1       1   \n",
      "4            5         0       3   \n",
      "\n",
      "                                                Name     Sex   Age  SibSp  \\\n",
      "0                            Braund, Mr. Owen Harris    male  22.0      1   \n",
      "1  Cumings, Mrs. John Bradley (Florence Briggs Th...  female  38.0      1   \n",
      "2                             Heikkinen, Miss. Laina  female  26.0      0   \n",
      "3       Futrelle, Mrs. Jacques Heath (Lily May Peel)  female  35.0      1   \n",
      "4                           Allen, Mr. William Henry    male  35.0      0   \n",
      "\n",
      "   Parch            Ticket     Fare Cabin Embarked  \n",
      "0      0         A/5 21171   7.2500   NaN        S  \n",
      "1      0          PC 17599  71.2833   C85        C  \n",
      "2      0  STON/O2. 3101282   7.9250   NaN        S  \n",
      "3      0            113803  53.1000  C123        S  \n",
      "4      0            373450   8.0500   NaN        S  \n"
     ]
    }
   ],
   "source": [
    "current_directory = \"c:/Users/gabriel/Desktop/Dauphine/Dauphine L2/Semestre 2/MIDO/Intro machine learning réseaux de neurones/lab5/lab5\"\n",
    "train_file_path = os.path.join(current_directory, 'titanic/train.csv')\n",
    "test_file_path = os.path.join(current_directory, 'titanic/test.csv')\n",
    "# j'accede aux csv train et test\n",
    "df_train = pd.read_csv(train_file_path)\n",
    "df_test = pd.read_csv(test_file_path)\n",
    "print(df_train.head())"
   ]
  },
  {
   "cell_type": "code",
   "execution_count": 307,
   "metadata": {},
   "outputs": [],
   "source": [
    "features = [\"Sex\",\"Age\",\"SibSp\",\"Parch\",\"Embarked_C\",\"Embarked_Q\",\"Embarked_S\",\"Pclass_1\",\"Pclass_2\",\"Pclass_3\"] # on met Pclass_1... car on effectue un one hot encoding\n",
    "features = [\"Sex\",\"Age\",\"SibSp\",\"Parch\",\"Embarked_C\",\"Embarked_Q\",\"Embarked_S\",\"Pclass_1\",\"Pclass_2\",\"Pclass_3\"]\n",
    "y_train = df_train[\"Survived\"]"
   ]
  },
  {
   "cell_type": "markdown",
   "metadata": {},
   "source": [
    "Partie one hot encoding"
   ]
  },
  {
   "cell_type": "code",
   "execution_count": 308,
   "metadata": {},
   "outputs": [],
   "source": [
    "# on fait un onehotencoding pour faciliter la mise en place de l'arbre\n",
    "from sklearn.preprocessing import OneHotEncoder\n",
    "encoder = OneHotEncoder(sparse_output=False).set_output(transform=\"pandas\")\n",
    "embarked_column_train  = df_train[[\"Embarked\"]]\n",
    "pclass_column_train  = df_train[[\"Pclass\"]]\n",
    "embarked_column_test = df_test[[\"Embarked\"]]\n",
    "pclass_column_test = df_test[[\"Pclass\"]]\n",
    "#ce sont les seuls qui peuvent être transformés en one hot encoding\n",
    "embarked_encoded_train = encoder.fit_transform(embarked_column_train)\n",
    "pclass_encoded_train = encoder.fit_transform(pclass_column_train)\n",
    "embarked_encoded_test = encoder.fit_transform(embarked_column_test)\n",
    "pclass_encoded_test = encoder.fit_transform(pclass_column_test)\n",
    "#nous avons donc modifié embarked et pclass mais elles sont encore présentes dans les dataframes\n",
    "df_train = df_train.drop(['Embarked', 'Pclass'], axis=1)\n",
    "df_test = df_test.drop(['Embarked', 'Pclass'], axis=1)\n",
    "\n",
    "df_train = pd.concat([df_train, embarked_encoded_train] , axis=1)\n",
    "df_train = pd.concat([df_train, pclass_encoded_train] , axis=1)\n",
    "df_test  = pd.concat([df_test, embarked_encoded_test] , axis=1)\n",
    "df_test  = pd.concat([df_test, pclass_encoded_test] , axis=1)\n",
    "X_test = pd.get_dummies(df_test[features]) # ceci nous servira pour tester notre modèle sur le kaggle\n",
    "X_train = pd.get_dummies(df_train[features])"
   ]
  },
  {
   "cell_type": "markdown",
   "metadata": {},
   "source": [
    "1)"
   ]
  },
  {
   "cell_type": "markdown",
   "metadata": {},
   "source": [
    "Premier random forest à la main"
   ]
  },
  {
   "cell_type": "code",
   "execution_count": 327,
   "metadata": {},
   "outputs": [],
   "source": [
    "#ici on entraine une random forest\n",
    "def random_forest_a_la_main(n,X_train): # en effet on va l'entrainer sur le Xtrain \n",
    "    p=len(X_train)\n",
    "    predictions=np.zeros(p)\n",
    "    ensemble_arbre=[]\n",
    "    for i in range(n): # le nombre d'arbre à fiter\n",
    "        bag_train=X_train.sample(frac=0.6,replace=True) # cette fonction permet de prendre n valeur aléatoire nous en prenons 60% de X_train \n",
    "        y_bag_train=y_train.loc[bag_train.index] # ceci permet de prendre les valeurs de y_train qui correspondent à l'index de bag_train afin de pouvoir entrainer le modèle\n",
    "        clf.fit(bag_train, y_bag_train) # on entraine le modèle\n",
    "        ensemble_arbre.append(clf) # on ajoute l'arbre à notre ensemble\n",
    "        predictions+=clf.predict(X_train) # on ajoute les prédictions de chaque arbre\n",
    "        \n",
    "    for j in range(len(predictions)):\n",
    "        if predictions[j]/n<0.5: # si la moyenne des prédictions est inférieure à 0.5 alors on prédit 0 sinon 1 car les arbres auront predit 0 plus souvent\n",
    "            predictions[j]=0\n",
    "        else :\n",
    "            predictions[j]=1 #ainsi à ce niveau predictions est la prediction de X_train\n",
    "    valeur=0\n",
    "    for i in range(len(predictions)):\n",
    "        if predictions[i]==y_train[i]:\n",
    "            valeur+=1 #enfin ici nous calculons la moyenne de bonnes reponses que nous à donner notre modèle\n",
    "    #print(valeur/len(predictions)) #affiche la moyenne de bonnes réponses. On est dans les 82% de bonnes réponses\n",
    "    return predictions,valeur/len(predictions),ensemble_arbre\n"
   ]
  },
  {
   "cell_type": "markdown",
   "metadata": {},
   "source": [
    "Partie optimisation du 1er programme"
   ]
  },
  {
   "cell_type": "code",
   "execution_count": 328,
   "metadata": {},
   "outputs": [
    {
     "name": "stdout",
     "output_type": "stream",
     "text": [
      "la precision est de  0.8294051627384961 le temps est de  183.5903558731079 le nombre d arbre à fiter est de  51 la profondeur des arbres a fiter est de  19\n"
     ]
    }
   ],
   "source": [
    "start=time.time()\n",
    "m=0\n",
    "from sklearn import tree\n",
    "from sklearn.tree import DecisionTreeClassifier\n",
    "from sklearn.model_selection import cross_val_score\n",
    "for j in range (6,25): #optimisons le nombre de feuilles pour maximiser la précision et pour minimiser l'overfitting et le temps on se limite à 25\n",
    "    clf = DecisionTreeClassifier(max_leaf_nodes=j, random_state=88)\n",
    "    pour_nombre_arbre=[]\n",
    "    for i in range(20,55): # optimisons le nombre d'arbre à fiter pour maximiser la précision\n",
    "        predictions,precision,ensemble_arbre=random_forest_a_la_main(i,X_train) # un appel à random_forest_a_la_main prend moins d'une seconde cependant beaucoup d'appel sont fait... \n",
    "        pour_nombre_arbre.append(precision) #ceci servira pour le graphique d'après\n",
    "        if precision>m:\n",
    "            m=precision\n",
    "            best_predictions=predictions\n",
    "            best_n=i\n",
    "            best_deep=j\n",
    "            vrai_graphique=pour_nombre_arbre\n",
    "            vrai_ensemble_arbre=ensemble_arbre #represente l'ensemble des arbres qui ont été fitté\n",
    "fin=time.time()\n",
    "temps=fin-start\n",
    "print('la precision est de ',m,'le temps est de ',temps, 'le nombre d arbre à fiter est de ',best_n, 'la profondeur des arbres a fiter est de ',best_deep) # on trouve donc que d'apres la random forest a la main une précision de 0.83 pour un nombre d'arbre entre 40 et 65 et un temps de 3 minutes\n"
   ]
  },
  {
   "cell_type": "markdown",
   "metadata": {},
   "source": [
    "Nous n'optimons pas le fait que nous prenons 60% car plus menerait à de l'overfitting"
   ]
  },
  {
   "cell_type": "markdown",
   "metadata": {},
   "source": [
    "Partie plot"
   ]
  },
  {
   "cell_type": "code",
   "execution_count": 311,
   "metadata": {},
   "outputs": [
    {
     "data": {
      "image/png": "[encoded data removed]",
      "text/plain": [
       "<Figure size 640x480 with 1 Axes>"
      ]
     },
     "metadata": {},
     "output_type": "display_data"
    }
   ],
   "source": [
    "\n",
    "plt.plot(range(20,55),vrai_graphique,color=\"blue\", label=\"Précision en fonction du nombre d'arbres\") #voici un plot pour voir à quel point rajouter des arbres n'est pas rentable\n",
    "plt.xlabel(\"Nombre d'arbres\")\n",
    "plt.ylabel(\"Précision\")\n",
    "plt.legend()\n",
    "plt.show()\n",
    "# grace à ce graphique j'ai pu voir qu'à partir de 55 arbres la précision ne changeait plus beaucoup ainsi je me suis limité à 55\n",
    "#reste à faire (faire un oob, comparer avec le classique tps d'execution et capacité de prediction, le comparer à une autre méthode tenter deep learning le mettre sur kaggle+ rajouter photo graphique et commenter mieux code)"
   ]
  },
  {
   "cell_type": "markdown",
   "metadata": {},
   "source": [
    "Partie kaggle 1 er programme et test de ma fonction"
   ]
  },
  {
   "cell_type": "code",
   "execution_count": 329,
   "metadata": {},
   "outputs": [
    {
     "name": "stdout",
     "output_type": "stream",
     "text": [
      "[DecisionTreeClassifier(max_leaf_nodes=19, random_state=88), DecisionTreeClassifier(max_leaf_nodes=19, random_state=88), DecisionTreeClassifier(max_leaf_nodes=19, random_state=88), DecisionTreeClassifier(max_leaf_nodes=19, random_state=88), DecisionTreeClassifier(max_leaf_nodes=19, random_state=88), DecisionTreeClassifier(max_leaf_nodes=19, random_state=88), DecisionTreeClassifier(max_leaf_nodes=19, random_state=88), DecisionTreeClassifier(max_leaf_nodes=19, random_state=88), DecisionTreeClassifier(max_leaf_nodes=19, random_state=88), DecisionTreeClassifier(max_leaf_nodes=19, random_state=88), DecisionTreeClassifier(max_leaf_nodes=19, random_state=88), DecisionTreeClassifier(max_leaf_nodes=19, random_state=88), DecisionTreeClassifier(max_leaf_nodes=19, random_state=88), DecisionTreeClassifier(max_leaf_nodes=19, random_state=88), DecisionTreeClassifier(max_leaf_nodes=19, random_state=88), DecisionTreeClassifier(max_leaf_nodes=19, random_state=88), DecisionTreeClassifier(max_leaf_nodes=19, random_state=88), DecisionTreeClassifier(max_leaf_nodes=19, random_state=88), DecisionTreeClassifier(max_leaf_nodes=19, random_state=88), DecisionTreeClassifier(max_leaf_nodes=19, random_state=88), DecisionTreeClassifier(max_leaf_nodes=19, random_state=88), DecisionTreeClassifier(max_leaf_nodes=19, random_state=88), DecisionTreeClassifier(max_leaf_nodes=19, random_state=88), DecisionTreeClassifier(max_leaf_nodes=19, random_state=88), DecisionTreeClassifier(max_leaf_nodes=19, random_state=88), DecisionTreeClassifier(max_leaf_nodes=19, random_state=88), DecisionTreeClassifier(max_leaf_nodes=19, random_state=88), DecisionTreeClassifier(max_leaf_nodes=19, random_state=88), DecisionTreeClassifier(max_leaf_nodes=19, random_state=88), DecisionTreeClassifier(max_leaf_nodes=19, random_state=88), DecisionTreeClassifier(max_leaf_nodes=19, random_state=88), DecisionTreeClassifier(max_leaf_nodes=19, random_state=88), DecisionTreeClassifier(max_leaf_nodes=19, random_state=88), DecisionTreeClassifier(max_leaf_nodes=19, random_state=88), DecisionTreeClassifier(max_leaf_nodes=19, random_state=88), DecisionTreeClassifier(max_leaf_nodes=19, random_state=88), DecisionTreeClassifier(max_leaf_nodes=19, random_state=88), DecisionTreeClassifier(max_leaf_nodes=19, random_state=88), DecisionTreeClassifier(max_leaf_nodes=19, random_state=88), DecisionTreeClassifier(max_leaf_nodes=19, random_state=88), DecisionTreeClassifier(max_leaf_nodes=19, random_state=88), DecisionTreeClassifier(max_leaf_nodes=19, random_state=88), DecisionTreeClassifier(max_leaf_nodes=19, random_state=88), DecisionTreeClassifier(max_leaf_nodes=19, random_state=88), DecisionTreeClassifier(max_leaf_nodes=19, random_state=88), DecisionTreeClassifier(max_leaf_nodes=19, random_state=88), DecisionTreeClassifier(max_leaf_nodes=19, random_state=88), DecisionTreeClassifier(max_leaf_nodes=19, random_state=88), DecisionTreeClassifier(max_leaf_nodes=19, random_state=88), DecisionTreeClassifier(max_leaf_nodes=19, random_state=88), DecisionTreeClassifier(max_leaf_nodes=19, random_state=88)]\n",
      "418\n"
     ]
    }
   ],
   "source": [
    "print(vrai_ensemble_arbre)\n",
    "#vrai_ensemble_arbre correspond à l'ensemble des arbres entrainés par notre modèle\n",
    "#on peut donc les utiliser pour faire des prédictions sur X_test\n",
    "p=len(X_test)\n",
    "predictions=np.zeros(p)\n",
    "for clf in vrai_ensemble_arbre:\n",
    "    predictions+=clf.predict(X_test)\n",
    "for j in range(len(predictions)):\n",
    "        if predictions[j]/(len(vrai_ensemble_arbre))<0.5: # si la moyenne des prédictions est inférieure à 0.5 alors on prédit 0 sinon 1 car les arbres auront predit 0 plus souvent\n",
    "            predictions[j]=0\n",
    "        else :\n",
    "            predictions[j]=1 #ainsi à ce niveau predictions est la prediction de X_test\n",
    "predictions = predictions.astype(int)\n",
    "#print(predictions) # voici nos précisions sur x_test\n",
    "\n",
    "passengerid = list(range(892, len(predictions)+892))\n",
    "\n",
    "# Créons un DataFrame avec 'PassengerId' et 'Survived' comme colonne \n",
    "csv = pd.DataFrame({'PassengerId': passengerid, 'Survived': predictions})\n",
    "print(len(csv))\n",
    "csv.to_csv(\"C:/Users/gabriel/Desktop/Dauphine/Dauphine L2/Semestre 2/MIDO/Intro machine learning réseaux de neurones/lab5.csv\",index=False) # on exporte nos prédictions sur x_test pour les soumettre sur kaggle\n",
    "#j'ai une precision de 77% sur kaggle"
   ]
  },
  {
   "cell_type": "markdown",
   "metadata": {},
   "source": [
    "Une precision de 77% sur kaggle"
   ]
  },
  {
   "cell_type": "markdown",
   "metadata": {},
   "source": [
    "2)"
   ]
  },
  {
   "cell_type": "markdown",
   "metadata": {},
   "source": [
    "Autre possibilité de random forest qui est mieux mais malheureusement très couteuse la principale différence est la cross validation qui prend beaucoup de temps"
   ]
  },
  {
   "cell_type": "code",
   "execution_count": 313,
   "metadata": {},
   "outputs": [],
   "source": [
    "#autre possibilité \n",
    "#ici on entraine une random forest\n",
    "def random_forest_a_la_main2(n,X_train): # en effet on va l'entrainer sur le Xtrain \n",
    "    p=len(X_train)\n",
    "    test=0\n",
    "    ensemble_arbre=[]\n",
    "    for i in range(n): # le nombre d'arbre à fiter\n",
    "        bag_train=X_train.sample(frac=0.6,replace=True) # cette fonction permet de prendre n valeur aléatoire nous en prenons sqrt(de la taille du tableau)\n",
    "        y_bag_train=y_train.loc[bag_train.index] # ceci permet de prendre les valeurs de y_train qui correspondent à l'index de bag_train afin de pouvoir entrainer le modèle\n",
    "        #print(np.mean(cross_val_score(clf, bag_train, y_bag_train, cv=6))) # affiche la performance moyenne de chaque arbre \n",
    "        clf.fit(bag_train, y_bag_train) # on entraine le modèle\n",
    "        ensemble_arbre.append(clf) # on ajoute l'arbre à notre ensemble\n",
    "        test+=np.mean(cross_val_score(clf, X_train, y_train, cv=5))\n",
    "    return ensemble_arbre,test/n\n"
   ]
  },
  {
   "cell_type": "markdown",
   "metadata": {},
   "source": [
    "Partie optimisation spoiler le programme suivant prend 3 min..."
   ]
  },
  {
   "cell_type": "code",
   "execution_count": 314,
   "metadata": {},
   "outputs": [
    {
     "name": "stdout",
     "output_type": "stream",
     "text": [
      "la precision est de  0.801343292950851 le temps est de  166.1542191505432 le nombre d arbre à fiter est de  100 la profondeur des arbres a fiter est de  6\n"
     ]
    }
   ],
   "source": [
    "start=time.time()\n",
    "m=0\n",
    "for j in  [2, 4, 6, 8, 10]: #optimisons le nombre de feuilles pour maximiser la précision et pour minimiser l'overfitting et le temps on se limite à ce tableau\n",
    "    clf = DecisionTreeClassifier(max_leaf_nodes=j, random_state=88)\n",
    "    pour_nombre_arbre=[]\n",
    "    for i in [1, 10, 100, 1000]: # optimisons le nombre d'arbre à fiter pour maximiser la précision\n",
    "        ensemble_arbre_,precision=random_forest_a_la_main2(i,X_train) # un appel à random_forest_a_la_main prend moins d'une seconde cependant beaucoup d'appel sont fait... \n",
    "        pour_nombre_arbre.append(precision)\n",
    "        if precision>m:\n",
    "            m=precision\n",
    "            best_n=i\n",
    "            best_deep=j\n",
    "            vrai_graphique=pour_nombre_arbre\n",
    "            vrai_ensemble_arbre2=ensemble_arbre\n",
    "fin=time.time()\n",
    "temps=fin-start\n",
    "print('la precision est de ',m,'le temps est de ',temps, 'le nombre d arbre à fiter est de ',best_n, 'la profondeur des arbres a fiter est de ',best_deep) # on trouve donc que d'apres la random forest a la main une précision de 0.83 pour un nombre d'arbre entre 40 et 65 et un temps de 3 minutes\n"
   ]
  },
  {
   "cell_type": "markdown",
   "metadata": {},
   "source": [
    "Le 100 et le 6 sont à retenir"
   ]
  },
  {
   "cell_type": "markdown",
   "metadata": {},
   "source": [
    "Partie kaggle 2 ème programme"
   ]
  },
  {
   "cell_type": "code",
   "execution_count": 316,
   "metadata": {},
   "outputs": [
    {
     "name": "stdout",
     "output_type": "stream",
     "text": [
      "[DecisionTreeClassifier(max_leaf_nodes=24, random_state=88), DecisionTreeClassifier(max_leaf_nodes=24, random_state=88), DecisionTreeClassifier(max_leaf_nodes=24, random_state=88), DecisionTreeClassifier(max_leaf_nodes=24, random_state=88), DecisionTreeClassifier(max_leaf_nodes=24, random_state=88), DecisionTreeClassifier(max_leaf_nodes=24, random_state=88), DecisionTreeClassifier(max_leaf_nodes=24, random_state=88), DecisionTreeClassifier(max_leaf_nodes=24, random_state=88), DecisionTreeClassifier(max_leaf_nodes=24, random_state=88), DecisionTreeClassifier(max_leaf_nodes=24, random_state=88), DecisionTreeClassifier(max_leaf_nodes=24, random_state=88), DecisionTreeClassifier(max_leaf_nodes=24, random_state=88), DecisionTreeClassifier(max_leaf_nodes=24, random_state=88), DecisionTreeClassifier(max_leaf_nodes=24, random_state=88), DecisionTreeClassifier(max_leaf_nodes=24, random_state=88), DecisionTreeClassifier(max_leaf_nodes=24, random_state=88), DecisionTreeClassifier(max_leaf_nodes=24, random_state=88), DecisionTreeClassifier(max_leaf_nodes=24, random_state=88), DecisionTreeClassifier(max_leaf_nodes=24, random_state=88), DecisionTreeClassifier(max_leaf_nodes=24, random_state=88), DecisionTreeClassifier(max_leaf_nodes=24, random_state=88), DecisionTreeClassifier(max_leaf_nodes=24, random_state=88), DecisionTreeClassifier(max_leaf_nodes=24, random_state=88), DecisionTreeClassifier(max_leaf_nodes=24, random_state=88), DecisionTreeClassifier(max_leaf_nodes=24, random_state=88), DecisionTreeClassifier(max_leaf_nodes=24, random_state=88), DecisionTreeClassifier(max_leaf_nodes=24, random_state=88), DecisionTreeClassifier(max_leaf_nodes=24, random_state=88), DecisionTreeClassifier(max_leaf_nodes=24, random_state=88), DecisionTreeClassifier(max_leaf_nodes=24, random_state=88), DecisionTreeClassifier(max_leaf_nodes=24, random_state=88), DecisionTreeClassifier(max_leaf_nodes=24, random_state=88), DecisionTreeClassifier(max_leaf_nodes=24, random_state=88), DecisionTreeClassifier(max_leaf_nodes=24, random_state=88), DecisionTreeClassifier(max_leaf_nodes=24, random_state=88), DecisionTreeClassifier(max_leaf_nodes=24, random_state=88), DecisionTreeClassifier(max_leaf_nodes=24, random_state=88), DecisionTreeClassifier(max_leaf_nodes=24, random_state=88), DecisionTreeClassifier(max_leaf_nodes=24, random_state=88), DecisionTreeClassifier(max_leaf_nodes=24, random_state=88), DecisionTreeClassifier(max_leaf_nodes=24, random_state=88), DecisionTreeClassifier(max_leaf_nodes=24, random_state=88), DecisionTreeClassifier(max_leaf_nodes=24, random_state=88), DecisionTreeClassifier(max_leaf_nodes=24, random_state=88), DecisionTreeClassifier(max_leaf_nodes=24, random_state=88), DecisionTreeClassifier(max_leaf_nodes=24, random_state=88), DecisionTreeClassifier(max_leaf_nodes=24, random_state=88), DecisionTreeClassifier(max_leaf_nodes=24, random_state=88), DecisionTreeClassifier(max_leaf_nodes=24, random_state=88), DecisionTreeClassifier(max_leaf_nodes=24, random_state=88), DecisionTreeClassifier(max_leaf_nodes=24, random_state=88), DecisionTreeClassifier(max_leaf_nodes=24, random_state=88), DecisionTreeClassifier(max_leaf_nodes=24, random_state=88), DecisionTreeClassifier(max_leaf_nodes=24, random_state=88)]\n",
      "418\n"
     ]
    }
   ],
   "source": [
    "print(vrai_ensemble_arbre2)\n",
    "#vrai_ensemble_arbre correspond à l'ensemble des arbres entrainés par notre modèle\n",
    "#on peut donc les utiliser pour faire des prédictions sur X_test\n",
    "p=len(X_test)\n",
    "predictions=np.zeros(p)\n",
    "for clf in vrai_ensemble_arbre2:\n",
    "    predictions+=clf.predict(X_test)\n",
    "for j in range(len(predictions)):\n",
    "        if predictions[j]/(len(vrai_ensemble_arbre2))<0.5: # si la moyenne des prédictions est inférieure à 0.5 alors on prédit 0 sinon 1 car les arbres auront predit 0 plus souvent\n",
    "            predictions[j]=0\n",
    "        else :\n",
    "            predictions[j]=1 #ainsi à ce niveau predictions est la prediction de X_test\n",
    "predictions = predictions.astype(int)\n",
    "#print(predictions) # voici nos précisions sur x_test\n",
    "\n",
    "passengerid = list(range(892, len(predictions)+892))\n",
    "\n",
    "# Créons un DataFrame avec 'PassengerId' et 'Survived' comme colonne \n",
    "csv = pd.DataFrame({'PassengerId': passengerid, 'Survived': predictions})\n",
    "print(len(csv))\n",
    "csv.to_csv(\"C:/Users/gabriel/Desktop/Dauphine/Dauphine L2/Semestre 2/MIDO/Intro machine learning réseaux de neurones/prog2.csv\",index=False) # on exporte nos prédictions sur x_test pour les soumettre sur kaggle\n",
    "\n"
   ]
  },
  {
   "cell_type": "markdown",
   "metadata": {},
   "source": [
    "Precision de 75.5 sur kaggle"
   ]
  },
  {
   "cell_type": "markdown",
   "metadata": {},
   "source": [
    "Partie random forest classique pour comparer"
   ]
  },
  {
   "cell_type": "code",
   "execution_count": 330,
   "metadata": {},
   "outputs": [
    {
     "name": "stdout",
     "output_type": "stream",
     "text": [
      "la precision est de  0.817079907099366\n",
      "le temps est de  1.8697350025177002\n"
     ]
    }
   ],
   "source": [
    "from sklearn.ensemble import RandomForestClassifier\n",
    "start=time.time()\n",
    "model = RandomForestClassifier(n_estimators=100, max_depth=5, random_state=1)\n",
    "model.fit(X_train, y_train)\n",
    "print('la precision est de ',np.mean(cross_val_score(model, X_train, y_train, cv=5)))\n",
    "y_pred = model.predict(X_test) # a tester sur kaggle\n",
    "end=time.time()\n",
    "print('le temps est de ',end-start)\n"
   ]
  },
  {
   "cell_type": "markdown",
   "metadata": {},
   "source": [
    "On peut voir que c'est plus rapide en effet il n'y a pas d'optimisation"
   ]
  },
  {
   "cell_type": "markdown",
   "metadata": {},
   "source": [
    "Partie random forest avec optimisation "
   ]
  },
  {
   "cell_type": "code",
   "execution_count": 332,
   "metadata": {},
   "outputs": [
    {
     "name": "stdout",
     "output_type": "stream",
     "text": [
      "Fitting 5 folds for each of 20 candidates, totalling 100 fits\n",
      "le temps est de  80.89305686950684\n",
      "{'max_depth': 6, 'n_estimators': 100}\n",
      "0.813709120582512\n"
     ]
    }
   ],
   "source": [
    "from sklearn.model_selection import GridSearchCV\n",
    "star=time.time()\n",
    "parameters = {'n_estimators':[1, 10, 100, 1000], 'max_depth':[2, 4, 6, 8, 10]} # on se limite à ceci question de temps d'execution\n",
    "clf = GridSearchCV(RandomForestClassifier(), parameters, verbose=True)\n",
    "clf.fit(X_train, y_train)\n",
    "clf.best_params_\n",
    "clf.best_score_\n",
    "end=time.time()\n",
    "print('le temps est de ',end-star)\n",
    "print(clf.best_params_)\n",
    "print(clf.best_score_)"
   ]
  },
  {
   "cell_type": "markdown",
   "metadata": {},
   "source": [
    "On peut donc voir que la prediction est plus précise que mon deuxième algorithme. 0.81 vs 0.80 mais inférieur à mon premier 0.83 (peut etre du à un lèger overfitting de ma part car pas de grid search) \n",
    "Deuxième point on peut voir une différence de temps énorme entre mes programmes et celui ci (3 minutes et 3 minutes contre à peu pres une minute)\n",
    "On peut aussi voir que mon deuxième programme trouve exactement les mêmes paramètres"
   ]
  },
  {
   "cell_type": "markdown",
   "metadata": {},
   "source": [
    "Partie Kaggle sur randomforest de sklearn"
   ]
  },
  {
   "cell_type": "code",
   "execution_count": 319,
   "metadata": {},
   "outputs": [
    {
     "name": "stdout",
     "output_type": "stream",
     "text": [
      "418\n"
     ]
    }
   ],
   "source": [
    "predictions=clf.predict(X_test)\n",
    "predictions = predictions.astype(int)\n",
    "passengerid = list(range(892, len(predictions)+892))\n",
    "csv = pd.DataFrame({'PassengerId': passengerid, 'Survived': predictions})\n",
    "print(len(csv))\n",
    "csv.to_csv(\"C:/Users/gabriel/Desktop/Dauphine/Dauphine L2/Semestre 2/MIDO/Intro machine learning réseaux de neurones/progsklearn.csv\",index=False) # on exporte nos prédictions sur x_test pour les soumettre sur kaggle\n",
    "\n"
   ]
  },
  {
   "cell_type": "markdown",
   "metadata": {},
   "source": [
    "La precision de 77.5%. La meilleure que j'ai trouvé"
   ]
  },
  {
   "cell_type": "markdown",
   "metadata": {},
   "source": [
    "4)"
   ]
  },
  {
   "cell_type": "markdown",
   "metadata": {},
   "source": [
    "Partie k plus proche voisins et optimisation"
   ]
  },
  {
   "cell_type": "code",
   "execution_count": 326,
   "metadata": {},
   "outputs": [
    {
     "name": "stdout",
     "output_type": "stream",
     "text": [
      "Fitting 5 folds for each of 99 candidates, totalling 495 fits\n",
      "{'kneighborsclassifier__n_neighbors': 18}\n",
      "0.8036218693114054\n",
      "le temps est de  24.948251724243164\n"
     ]
    }
   ],
   "source": [
    "from sklearn.neighbors import KNeighborsClassifier\n",
    "from sklearn.pipeline import make_pipeline\n",
    "import sklearn.preprocessing as preprocessing\n",
    "from sklearn.preprocessing import StandardScaler\n",
    "from sklearn.model_selection import cross_val_score\n",
    "start=time.time()\n",
    "nn = make_pipeline(preprocessing.StandardScaler(), KNeighborsClassifier())\n",
    "parameters = {'kneighborsclassifier__n_neighbors':range(1, 100)}\n",
    "clf = GridSearchCV(nn, parameters, verbose=1)\n",
    "X_train=X_train.fillna(0) #sinon il y a des problèmes de nan\n",
    "clf.fit(X_train, y_train)\n",
    "x=clf.best_params_\n",
    "print(x)\n",
    "z=clf.best_score_\n",
    "print(z)\n",
    "end=time.time()\n",
    "print('le temps est de ',end-start)"
   ]
  },
  {
   "cell_type": "markdown",
   "metadata": {},
   "source": [
    "Partie kaggle"
   ]
  },
  {
   "cell_type": "code",
   "execution_count": 322,
   "metadata": {},
   "outputs": [
    {
     "name": "stdout",
     "output_type": "stream",
     "text": [
      "418\n"
     ]
    }
   ],
   "source": [
    "X_test=X_test.fillna(0)\n",
    "predictions=clf.predict(X_test)\n",
    "predictions = predictions.astype(int)\n",
    "passengerid = list(range(892, len(predictions)+892))\n",
    "csv = pd.DataFrame({'PassengerId': passengerid, 'Survived': predictions})\n",
    "print(len(csv))\n",
    "csv.to_csv(\"C:/Users/gabriel/Desktop/Dauphine/Dauphine L2/Semestre 2/MIDO/Intro machine learning réseaux de neurones/progskvoisin.csv\",index=False) # on exporte nos prédictions sur x_test pour les soumettre sur kaggle"
   ]
  },
  {
   "cell_type": "markdown",
   "metadata": {},
   "source": [
    "La precision est de 76.3 sur kaggle"
   ]
  },
  {
   "cell_type": "markdown",
   "metadata": {},
   "source": [
    "5)"
   ]
  },
  {
   "cell_type": "markdown",
   "metadata": {},
   "source": [
    "Partie regression logistic"
   ]
  },
  {
   "cell_type": "code",
   "execution_count": 325,
   "metadata": {},
   "outputs": [
    {
     "name": "stdout",
     "output_type": "stream",
     "text": [
      "Fitting 5 folds for each of 1000 candidates, totalling 5000 fits\n",
      "{'logisticregression__C': 0.1001001001001001}\n",
      "0.7788776599083548\n",
      "le temps est de  74.53577899932861\n"
     ]
    },
    {
     "name": "stderr",
     "output_type": "stream",
     "text": [
      "c:\\Users\\gabriel\\AppData\\Local\\Programs\\Python\\Python312\\Lib\\site-packages\\sklearn\\model_selection\\_validation.py:542: FitFailedWarning: \n",
      "5 fits failed out of a total of 5000.\n",
      "The score on these train-test partitions for these parameters will be set to nan.\n",
      "If these failures are not expected, you can try to debug them by setting error_score='raise'.\n",
      "\n",
      "Below are more details about the failures:\n",
      "--------------------------------------------------------------------------------\n",
      "5 fits failed with the following error:\n",
      "Traceback (most recent call last):\n",
      "  File \"c:\\Users\\gabriel\\AppData\\Local\\Programs\\Python\\Python312\\Lib\\site-packages\\sklearn\\model_selection\\_validation.py\", line 890, in _fit_and_score\n",
      "    estimator.fit(X_train, y_train, **fit_params)\n",
      "  File \"c:\\Users\\gabriel\\AppData\\Local\\Programs\\Python\\Python312\\Lib\\site-packages\\sklearn\\base.py\", line 1351, in wrapper\n",
      "    return fit_method(estimator, *args, **kwargs)\n",
      "           ^^^^^^^^^^^^^^^^^^^^^^^^^^^^^^^^^^^^^^\n",
      "  File \"c:\\Users\\gabriel\\AppData\\Local\\Programs\\Python\\Python312\\Lib\\site-packages\\sklearn\\pipeline.py\", line 475, in fit\n",
      "    self._final_estimator.fit(Xt, y, **last_step_params[\"fit\"])\n",
      "  File \"c:\\Users\\gabriel\\AppData\\Local\\Programs\\Python\\Python312\\Lib\\site-packages\\sklearn\\base.py\", line 1344, in wrapper\n",
      "    estimator._validate_params()\n",
      "  File \"c:\\Users\\gabriel\\AppData\\Local\\Programs\\Python\\Python312\\Lib\\site-packages\\sklearn\\base.py\", line 666, in _validate_params\n",
      "    validate_parameter_constraints(\n",
      "  File \"c:\\Users\\gabriel\\AppData\\Local\\Programs\\Python\\Python312\\Lib\\site-packages\\sklearn\\utils\\_param_validation.py\", line 95, in validate_parameter_constraints\n",
      "    raise InvalidParameterError(\n",
      "sklearn.utils._param_validation.InvalidParameterError: The 'C' parameter of LogisticRegression must be a float in the range (0.0, inf]. Got 0.0 instead.\n",
      "\n",
      "  warnings.warn(some_fits_failed_message, FitFailedWarning)\n",
      "c:\\Users\\gabriel\\AppData\\Local\\Programs\\Python\\Python312\\Lib\\site-packages\\sklearn\\model_selection\\_search.py:1051: UserWarning: One or more of the test scores are non-finite: [       nan 0.77887766 0.77775406 0.77775406 0.77550687 0.77663047\n",
      " 0.77663047 0.77775406 0.77775406 0.77775406 0.77775406 0.77775406\n",
      " 0.77775406 0.77775406 0.77775406 0.77775406 0.77775406 0.77775406\n",
      " 0.77775406 0.77775406 0.77775406 0.77775406 0.77775406 0.77775406\n",
      " 0.77775406 0.77775406 0.77775406 0.77775406 0.77775406 0.77775406\n",
      " 0.77775406 0.77775406 0.77775406 0.77775406 0.77775406 0.77775406\n",
      " 0.77775406 0.77775406 0.77775406 0.77775406 0.77775406 0.77775406\n",
      " 0.77775406 0.77775406 0.77775406 0.77775406 0.77775406 0.77775406\n",
      " 0.77775406 0.77775406 0.77775406 0.77775406 0.77775406 0.77775406\n",
      " 0.77775406 0.77775406 0.77775406 0.77775406 0.77775406 0.77775406\n",
      " 0.77775406 0.77775406 0.77775406 0.77775406 0.77775406 0.77775406\n",
      " 0.77775406 0.77775406 0.77775406 0.77775406 0.77775406 0.77775406\n",
      " 0.77775406 0.77775406 0.77775406 0.77775406 0.77775406 0.77775406\n",
      " 0.77775406 0.77775406 0.77775406 0.77775406 0.77775406 0.77775406\n",
      " 0.77775406 0.77775406 0.77775406 0.77775406 0.77775406 0.77775406\n",
      " 0.77775406 0.77775406 0.77775406 0.77775406 0.77775406 0.77775406\n",
      " 0.77775406 0.77775406 0.77775406 0.77775406 0.77775406 0.77775406\n",
      " 0.77775406 0.77775406 0.77775406 0.77775406 0.77775406 0.77775406\n",
      " 0.77775406 0.77775406 0.77775406 0.77775406 0.77775406 0.77775406\n",
      " 0.77775406 0.77775406 0.77775406 0.77775406 0.77775406 0.77775406\n",
      " 0.77775406 0.77775406 0.77775406 0.77775406 0.77775406 0.77775406\n",
      " 0.77775406 0.77775406 0.77775406 0.77775406 0.77775406 0.77775406\n",
      " 0.77775406 0.77775406 0.77775406 0.77775406 0.77775406 0.77775406\n",
      " 0.77775406 0.77775406 0.77775406 0.77775406 0.77775406 0.77775406\n",
      " 0.77775406 0.77775406 0.77775406 0.77775406 0.77775406 0.77775406\n",
      " 0.77775406 0.77775406 0.77775406 0.77775406 0.77775406 0.77775406\n",
      " 0.77775406 0.77775406 0.77775406 0.77775406 0.77775406 0.77775406\n",
      " 0.77775406 0.77775406 0.77775406 0.77775406 0.77775406 0.77775406\n",
      " 0.77775406 0.77775406 0.77775406 0.77775406 0.77775406 0.77775406\n",
      " 0.77775406 0.77775406 0.77775406 0.77775406 0.77775406 0.77775406\n",
      " 0.77775406 0.77775406 0.77775406 0.77775406 0.77775406 0.77775406\n",
      " 0.77775406 0.77775406 0.77775406 0.77775406 0.77775406 0.77775406\n",
      " 0.77775406 0.77775406 0.77775406 0.77775406 0.77775406 0.77775406\n",
      " 0.77775406 0.77775406 0.77775406 0.77775406 0.77775406 0.77775406\n",
      " 0.77775406 0.77775406 0.77775406 0.77775406 0.77775406 0.77775406\n",
      " 0.77775406 0.77775406 0.77775406 0.77775406 0.77775406 0.77775406\n",
      " 0.77775406 0.77775406 0.77775406 0.77775406 0.77775406 0.77775406\n",
      " 0.77775406 0.77775406 0.77775406 0.77775406 0.77775406 0.77775406\n",
      " 0.77775406 0.77775406 0.77775406 0.77775406 0.77775406 0.77775406\n",
      " 0.77775406 0.77775406 0.77775406 0.77775406 0.77775406 0.77775406\n",
      " 0.77775406 0.77775406 0.77775406 0.77775406 0.77775406 0.77775406\n",
      " 0.77775406 0.77775406 0.77775406 0.77775406 0.77775406 0.77775406\n",
      " 0.77775406 0.77775406 0.77775406 0.77775406 0.77775406 0.77775406\n",
      " 0.77775406 0.77775406 0.77775406 0.77775406 0.77775406 0.77775406\n",
      " 0.77775406 0.77775406 0.77775406 0.77775406 0.77775406 0.77775406\n",
      " 0.77775406 0.77775406 0.77775406 0.77775406 0.77775406 0.77775406\n",
      " 0.77775406 0.77775406 0.77775406 0.77775406 0.77775406 0.77775406\n",
      " 0.77775406 0.77775406 0.77775406 0.77775406 0.77775406 0.77775406\n",
      " 0.77775406 0.77775406 0.77775406 0.77775406 0.77775406 0.77775406\n",
      " 0.77775406 0.77775406 0.77775406 0.77775406 0.77775406 0.77775406\n",
      " 0.77775406 0.77775406 0.77775406 0.77775406 0.77775406 0.77775406\n",
      " 0.77775406 0.77775406 0.77775406 0.77775406 0.77775406 0.77775406\n",
      " 0.77775406 0.77775406 0.77775406 0.77775406 0.77775406 0.77775406\n",
      " 0.77775406 0.77775406 0.77775406 0.77775406 0.77775406 0.77775406\n",
      " 0.77775406 0.77775406 0.77775406 0.77775406 0.77775406 0.77775406\n",
      " 0.77775406 0.77775406 0.77775406 0.77775406 0.77775406 0.77775406\n",
      " 0.77775406 0.77775406 0.77775406 0.77775406 0.77775406 0.77775406\n",
      " 0.77775406 0.77775406 0.77775406 0.77775406 0.77775406 0.77775406\n",
      " 0.77775406 0.77775406 0.77775406 0.77775406 0.77775406 0.77775406\n",
      " 0.77775406 0.77775406 0.77775406 0.77775406 0.77775406 0.77775406\n",
      " 0.77775406 0.77775406 0.77775406 0.77775406 0.77775406 0.77775406\n",
      " 0.77775406 0.77775406 0.77775406 0.77775406 0.77775406 0.77775406\n",
      " 0.77775406 0.77775406 0.77775406 0.77775406 0.77775406 0.77775406\n",
      " 0.77775406 0.77775406 0.77775406 0.77775406 0.77775406 0.77775406\n",
      " 0.77775406 0.77775406 0.77775406 0.77775406 0.77775406 0.77775406\n",
      " 0.77775406 0.77775406 0.77775406 0.77775406 0.77775406 0.77775406\n",
      " 0.77775406 0.77775406 0.77775406 0.77775406 0.77775406 0.77775406\n",
      " 0.77775406 0.77775406 0.77775406 0.77775406 0.77775406 0.77775406\n",
      " 0.77775406 0.77775406 0.77775406 0.77775406 0.77775406 0.77775406\n",
      " 0.77775406 0.77775406 0.77775406 0.77775406 0.77775406 0.77775406\n",
      " 0.77775406 0.77775406 0.77775406 0.77775406 0.77775406 0.77775406\n",
      " 0.77775406 0.77775406 0.77775406 0.77775406 0.77775406 0.77775406\n",
      " 0.77775406 0.77775406 0.77775406 0.77775406 0.77775406 0.77775406\n",
      " 0.77775406 0.77775406 0.77775406 0.77775406 0.77775406 0.77775406\n",
      " 0.77775406 0.77775406 0.77775406 0.77775406 0.77775406 0.77775406\n",
      " 0.77775406 0.77775406 0.77775406 0.77775406 0.77775406 0.77775406\n",
      " 0.77775406 0.77775406 0.77775406 0.77775406 0.77775406 0.77775406\n",
      " 0.77775406 0.77775406 0.77775406 0.77775406 0.77775406 0.77775406\n",
      " 0.77775406 0.77775406 0.77775406 0.77775406 0.77775406 0.77775406\n",
      " 0.77775406 0.77775406 0.77775406 0.77775406 0.77775406 0.77775406\n",
      " 0.77775406 0.77775406 0.77775406 0.77775406 0.77775406 0.77775406\n",
      " 0.77775406 0.77775406 0.77775406 0.77775406 0.77775406 0.77775406\n",
      " 0.77775406 0.77775406 0.77775406 0.77775406 0.77775406 0.77775406\n",
      " 0.77775406 0.77775406 0.77775406 0.77775406 0.77775406 0.77775406\n",
      " 0.77775406 0.77775406 0.77775406 0.77775406 0.77775406 0.77775406\n",
      " 0.77775406 0.77775406 0.77775406 0.77775406 0.77775406 0.77775406\n",
      " 0.77775406 0.77775406 0.77775406 0.77775406 0.77775406 0.77775406\n",
      " 0.77775406 0.77775406 0.77775406 0.77775406 0.77775406 0.77775406\n",
      " 0.77775406 0.77775406 0.77775406 0.77775406 0.77775406 0.77775406\n",
      " 0.77775406 0.77775406 0.77775406 0.77775406 0.77775406 0.77775406\n",
      " 0.77775406 0.77775406 0.77775406 0.77775406 0.77775406 0.77775406\n",
      " 0.77775406 0.77775406 0.77775406 0.77775406 0.77775406 0.77775406\n",
      " 0.77775406 0.77775406 0.77775406 0.77775406 0.77775406 0.77775406\n",
      " 0.77775406 0.77775406 0.77775406 0.77775406 0.77775406 0.77775406\n",
      " 0.77775406 0.77775406 0.77775406 0.77775406 0.77775406 0.77775406\n",
      " 0.77775406 0.77775406 0.77775406 0.77775406 0.77775406 0.77775406\n",
      " 0.77775406 0.77775406 0.77775406 0.77775406 0.77775406 0.77775406\n",
      " 0.77775406 0.77775406 0.77775406 0.77775406 0.77775406 0.77775406\n",
      " 0.77775406 0.77775406 0.77775406 0.77775406 0.77775406 0.77775406\n",
      " 0.77775406 0.77775406 0.77775406 0.77775406 0.77775406 0.77775406\n",
      " 0.77775406 0.77775406 0.77775406 0.77775406 0.77775406 0.77775406\n",
      " 0.77775406 0.77775406 0.77775406 0.77775406 0.77775406 0.77775406\n",
      " 0.77775406 0.77775406 0.77775406 0.77775406 0.77775406 0.77775406\n",
      " 0.77775406 0.77775406 0.77775406 0.77775406 0.77775406 0.77775406\n",
      " 0.77775406 0.77775406 0.77775406 0.77775406 0.77775406 0.77775406\n",
      " 0.77775406 0.77775406 0.77775406 0.77775406 0.77775406 0.77775406\n",
      " 0.77775406 0.77775406 0.77775406 0.77775406 0.77775406 0.77775406\n",
      " 0.77775406 0.77775406 0.77775406 0.77775406 0.77775406 0.77775406\n",
      " 0.77775406 0.77775406 0.77775406 0.77775406 0.77775406 0.77775406\n",
      " 0.77775406 0.77775406 0.77775406 0.77775406 0.77775406 0.77775406\n",
      " 0.77775406 0.77775406 0.77775406 0.77775406 0.77775406 0.77775406\n",
      " 0.77775406 0.77775406 0.77775406 0.77775406 0.77775406 0.77775406\n",
      " 0.77775406 0.77775406 0.77775406 0.77775406 0.77775406 0.77775406\n",
      " 0.77775406 0.77775406 0.77775406 0.77775406 0.77775406 0.77775406\n",
      " 0.77775406 0.77775406 0.77775406 0.77775406 0.77775406 0.77775406\n",
      " 0.77775406 0.77775406 0.77775406 0.77775406 0.77775406 0.77775406\n",
      " 0.77775406 0.77775406 0.77775406 0.77775406 0.77775406 0.77775406\n",
      " 0.77775406 0.77775406 0.77775406 0.77775406 0.77775406 0.77775406\n",
      " 0.77775406 0.77775406 0.77775406 0.77775406 0.77775406 0.77775406\n",
      " 0.77775406 0.77775406 0.77775406 0.77775406 0.77775406 0.77775406\n",
      " 0.77775406 0.77775406 0.77775406 0.77775406 0.77775406 0.77775406\n",
      " 0.77775406 0.77775406 0.77775406 0.77775406 0.77775406 0.77775406\n",
      " 0.77775406 0.77775406 0.77775406 0.77775406 0.77775406 0.77775406\n",
      " 0.77775406 0.77775406 0.77775406 0.77775406 0.77775406 0.77775406\n",
      " 0.77775406 0.77775406 0.77775406 0.77775406 0.77775406 0.77775406\n",
      " 0.77775406 0.77775406 0.77775406 0.77775406 0.77775406 0.77775406\n",
      " 0.77775406 0.77775406 0.77775406 0.77775406 0.77775406 0.77775406\n",
      " 0.77775406 0.77775406 0.77775406 0.77775406 0.77775406 0.77775406\n",
      " 0.77775406 0.77775406 0.77775406 0.77775406 0.77775406 0.77775406\n",
      " 0.77775406 0.77775406 0.77775406 0.77775406 0.77775406 0.77775406\n",
      " 0.77775406 0.77775406 0.77775406 0.77775406 0.77775406 0.77775406\n",
      " 0.77775406 0.77775406 0.77775406 0.77775406 0.77775406 0.77775406\n",
      " 0.77775406 0.77775406 0.77775406 0.77775406 0.77775406 0.77775406\n",
      " 0.77775406 0.77775406 0.77775406 0.77775406 0.77775406 0.77775406\n",
      " 0.77775406 0.77775406 0.77775406 0.77775406 0.77775406 0.77775406\n",
      " 0.77775406 0.77775406 0.77775406 0.77775406 0.77775406 0.77775406\n",
      " 0.77775406 0.77775406 0.77775406 0.77775406 0.77775406 0.77775406\n",
      " 0.77775406 0.77775406 0.77775406 0.77775406 0.77775406 0.77775406\n",
      " 0.77775406 0.77775406 0.77775406 0.77775406 0.77775406 0.77775406\n",
      " 0.77775406 0.77775406 0.77775406 0.77775406 0.77775406 0.77775406\n",
      " 0.77775406 0.77775406 0.77775406 0.77775406 0.77775406 0.77775406\n",
      " 0.77775406 0.77775406 0.77775406 0.77775406 0.77775406 0.77775406\n",
      " 0.77775406 0.77775406 0.77775406 0.77775406 0.77775406 0.77775406\n",
      " 0.77775406 0.77775406 0.77775406 0.77775406 0.77775406 0.77775406\n",
      " 0.77775406 0.77775406 0.77775406 0.77775406 0.77775406 0.77775406\n",
      " 0.77775406 0.77775406 0.77775406 0.77775406 0.77775406 0.77775406\n",
      " 0.77775406 0.77775406 0.77775406 0.77775406 0.77775406 0.77775406\n",
      " 0.77775406 0.77775406 0.77775406 0.77775406 0.77775406 0.77775406\n",
      " 0.77775406 0.77775406 0.77775406 0.77775406 0.77775406 0.77775406\n",
      " 0.77775406 0.77775406 0.77775406 0.77775406 0.77775406 0.77775406\n",
      " 0.77775406 0.77775406 0.77775406 0.77775406 0.77775406 0.77775406\n",
      " 0.77775406 0.77775406 0.77775406 0.77775406 0.77775406 0.77775406\n",
      " 0.77775406 0.77775406 0.77775406 0.77775406 0.77775406 0.77775406\n",
      " 0.77775406 0.77775406 0.77775406 0.77775406 0.77775406 0.77775406\n",
      " 0.77775406 0.77775406 0.77775406 0.77775406 0.77775406 0.77775406\n",
      " 0.77775406 0.77775406 0.77775406 0.77775406 0.77775406 0.77775406\n",
      " 0.77775406 0.77775406 0.77775406 0.77775406 0.77775406 0.77775406\n",
      " 0.77775406 0.77775406 0.77775406 0.77775406 0.77775406 0.77775406\n",
      " 0.77775406 0.77775406 0.77775406 0.77775406 0.77775406 0.77775406\n",
      " 0.77775406 0.77775406 0.77775406 0.77775406 0.77775406 0.77775406\n",
      " 0.77775406 0.77775406 0.77775406 0.77775406 0.77775406 0.77775406\n",
      " 0.77775406 0.77775406 0.77775406 0.77775406 0.77775406 0.77775406\n",
      " 0.77775406 0.77775406 0.77775406 0.77775406 0.77775406 0.77775406\n",
      " 0.77775406 0.77775406 0.77775406 0.77775406 0.77775406 0.77775406\n",
      " 0.77775406 0.77775406 0.77775406 0.77775406 0.77775406 0.77775406\n",
      " 0.77775406 0.77775406 0.77775406 0.77775406 0.77775406 0.77775406\n",
      " 0.77775406 0.77775406 0.77775406 0.77775406]\n",
      "  warnings.warn(\n"
     ]
    }
   ],
   "source": [
    "from sklearn.linear_model import LogisticRegression\n",
    "import numpy as np\n",
    "start=time.time()\n",
    "nn = make_pipeline(preprocessing.StandardScaler(), LogisticRegression())\n",
    "parameters = {'logisticregression__C':np.linspace(0, 100, 1000)}\n",
    "clf = GridSearchCV(nn, parameters, verbose=1)\n",
    "X_train=X_train.fillna(0) #sinon il y a des problèmes de nan\n",
    "clf.fit(X_train, y_train)\n",
    "end=time.time()\n",
    "x=clf.best_params_\n",
    "print(x)\n",
    "z=clf.best_score_\n",
    "print(z)\n",
    "temps=end-start\n",
    "print(\"le temps est de \",temps)"
   ]
  },
  {
   "cell_type": "markdown",
   "metadata": {},
   "source": [
    "Kaggle logistic"
   ]
  },
  {
   "cell_type": "code",
   "execution_count": 324,
   "metadata": {},
   "outputs": [
    {
     "name": "stdout",
     "output_type": "stream",
     "text": [
      "418\n"
     ]
    }
   ],
   "source": [
    "X_test=X_test.fillna(0)\n",
    "predictions=clf.predict(X_test)\n",
    "predictions = predictions.astype(int)\n",
    "passengerid = list(range(892, len(predictions)+892))\n",
    "csv = pd.DataFrame({'PassengerId': passengerid, 'Survived': predictions})\n",
    "print(len(csv))\n",
    "csv.to_csv(\"C:/Users/gabriel/Desktop/Dauphine/Dauphine L2/Semestre 2/MIDO/Intro machine learning réseaux de neurones/progslogistic.csv\",index=False) # on exporte nos prédictions sur x_test pour les soumettre sur kaggle"
   ]
  },
  {
   "cell_type": "markdown",
   "metadata": {},
   "source": [
    "La précision est de 77% sur kaggle"
   ]
  },
  {
   "cell_type": "markdown",
   "metadata": {},
   "source": [
    "6 Compararaison et conclusion"
   ]
  },
  {
   "cell_type": "markdown",
   "metadata": {},
   "source": [
    "Le random forest directement implanté dans python est clairement meilleur que mon programme car elle est plus rapide plus constante plus rapide... \n",
    "Cependant mon programme marche relativement mieux que l'algo k plus proches voisins k compris entre 1 et 100 pour ce type de donnée.\n",
    "Cependant mon programme manque de stabilité il donne des résultats qui fluctuent légerement à chaque fois...\n",
    "voici l'ordre des meilleurs algo sur kaggle : randomforets > regression logistic > mon programme1 > k plus proche voisin > mon programme2"
   ]
  }
 ],
 "metadata": {
  "kernelspec": {
   "display_name": "Python 3",
   "language": "python",
   "name": "python3"
  },
  "language_info": {
   "codemirror_mode": {
    "name": "ipython",
    "version": 3
   },
   "file_extension": ".py",
   "mimetype": "text/x-python",
   "name": "python",
   "nbconvert_exporter": "python",
   "pygments_lexer": "ipython3",
   "version": "3.12.0"
  }
 },
 "nbformat": 4,
 "nbformat_minor": 2
}
